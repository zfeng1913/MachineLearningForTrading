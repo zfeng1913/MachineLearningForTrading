{
 "cells": [
  {
   "cell_type": "code",
   "execution_count": 35,
   "id": "b12f586d",
   "metadata": {},
   "outputs": [],
   "source": [
    "from DTLearner import DTLearner\n",
    "import pandas as pd\n",
    "import numpy as np"
   ]
  },
  {
   "cell_type": "code",
   "execution_count": 32,
   "id": "f9f381da",
   "metadata": {},
   "outputs": [
    {
     "data": {
      "text/plain": [
       "array([4, 5, 6, 5, 3, 8, 7, 6])"
      ]
     },
     "execution_count": 32,
     "metadata": {},
     "output_type": "execute_result"
    }
   ],
   "source": [
    "data = pd.read_csv('test_data_new.csv')\n",
    "data_y = np.array(data.iloc[:,-1])\n",
    "data_x = np.array(data.iloc[:, :-1])\n",
    "data_y"
   ]
  },
  {
   "cell_type": "code",
   "execution_count": 33,
   "id": "69ad4a31",
   "metadata": {},
   "outputs": [
    {
     "data": {
      "text/plain": [
       "array([[ 0.   ,  0.885,  0.33 ,  9.1  ],\n",
       "       [ 1.   ,  0.725,  0.39 , 10.9  ],\n",
       "       [ 2.   ,  0.56 ,  0.5  ,  9.4  ],\n",
       "       [ 3.   ,  0.735,  0.57 ,  9.8  ],\n",
       "       [ 4.   ,  0.61 ,  0.63 ,  8.4  ],\n",
       "       [ 5.   ,  0.26 ,  0.63 , 11.8  ],\n",
       "       [ 6.   ,  0.5  ,  0.68 , 10.5  ],\n",
       "       [ 7.   ,  0.32 ,  0.78 , 10.   ]])"
      ]
     },
     "execution_count": 33,
     "metadata": {},
     "output_type": "execute_result"
    }
   ],
   "source": [
    "data_x"
   ]
  },
  {
   "cell_type": "code",
   "execution_count": 36,
   "id": "27d0fb0b",
   "metadata": {},
   "outputs": [
    {
     "ename": "IndexError",
     "evalue": "index 27 is out of bounds for axis 1 with size 4",
     "output_type": "error",
     "traceback": [
      "\u001b[0;31m---------------------------------------------------------------------------\u001b[0m",
      "\u001b[0;31mIndexError\u001b[0m                                Traceback (most recent call last)",
      "Cell \u001b[0;32mIn[36], line 1\u001b[0m\n\u001b[0;32m----> 1\u001b[0m \u001b[43mDTLearner\u001b[49m\u001b[43m(\u001b[49m\u001b[43m)\u001b[49m\u001b[38;5;241;43m.\u001b[39;49m\u001b[43madd_evidence\u001b[49m\u001b[43m(\u001b[49m\u001b[43mdata_x\u001b[49m\u001b[43m,\u001b[49m\u001b[43m \u001b[49m\u001b[43mdata_y\u001b[49m\u001b[43m)\u001b[49m\n",
      "File \u001b[0;32m~/Desktop/ML4T_2023Summer/assess_learners/DTLearner.py:61\u001b[0m, in \u001b[0;36madd_evidence\u001b[0;34m(self, data_x, data_y)\u001b[0m\n\u001b[1;32m     59\u001b[0m     \"\"\"\n\u001b[1;32m     60\u001b[0m \n\u001b[0;32m---> 61\u001b[0m     self.model = self.build_tree(data_x, data_y)\n\u001b[1;32m     62\u001b[0m \n\u001b[1;32m     63\u001b[0m def build_tree(self, data_x, data_y):\n",
      "File \u001b[0;32m~/Desktop/ML4T_2023Summer/assess_learners/DTLearner.py:68\u001b[0m, in \u001b[0;36mbuild_tree\u001b[0;34m(self, data_x, data_y)\u001b[0m\n\u001b[1;32m     66\u001b[0m else:\n\u001b[1;32m     67\u001b[0m     i = self.determine_the_best_feature(data_x, data_y)\n\u001b[0;32m---> 68\u001b[0m     SplitVal = data_x[:, i].median()\n\u001b[1;32m     69\u001b[0m     lefttree = self.build_tree(\n\u001b[1;32m     70\u001b[0m         data_x[data_x[:, i] <= SplitVal], data_y[data_x[:, i] <= SplitVal])\n",
      "\u001b[0;31mIndexError\u001b[0m: index 27 is out of bounds for axis 1 with size 4"
     ]
    }
   ],
   "source": [
    "DTLearner().add_evidence(data_x, data_y)"
   ]
  },
  {
   "cell_type": "code",
   "execution_count": null,
   "id": "7399695b",
   "metadata": {},
   "outputs": [],
   "source": []
  }
 ],
 "metadata": {
  "kernelspec": {
   "display_name": "Python 3 (ipykernel)",
   "language": "python",
   "name": "python3"
  },
  "language_info": {
   "codemirror_mode": {
    "name": "ipython",
    "version": 3
   },
   "file_extension": ".py",
   "mimetype": "text/x-python",
   "name": "python",
   "nbconvert_exporter": "python",
   "pygments_lexer": "ipython3",
   "version": "3.10.9"
  }
 },
 "nbformat": 4,
 "nbformat_minor": 5
}
